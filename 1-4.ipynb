{
 "cells": [
  {
   "cell_type": "code",
   "execution_count": 6,
   "id": "1d30f8f4",
   "metadata": {},
   "outputs": [
    {
     "name": "stdout",
     "output_type": "stream",
     "text": [
      "請輸入姓名：tom\n",
      "你好， tom\n",
      "請輸入年齡20\n",
      "原來你 20 歲\n",
      "請問體重？65\n",
      "體重為 65.0 公斤\n"
     ]
    }
   ],
   "source": [
    "name = input(\"請輸入姓名：\")\n",
    "print(\"你好，\",name)\n",
    "age = int(input(\"請輸入年齡:\"))\n",
    "print(\"原來你\",age,\"歲\")\n",
    "weight =float(input(\"請問體重？\"))\n",
    "print(\"體重為\",weight,\"公斤\")"
   ]
  },
  {
   "cell_type": "code",
   "execution_count": null,
   "id": "78303eab",
   "metadata": {},
   "outputs": [],
   "source": []
  }
 ],
 "metadata": {
  "kernelspec": {
   "display_name": "Python 3",
   "language": "python",
   "name": "python3"
  },
  "language_info": {
   "codemirror_mode": {
    "name": "ipython",
    "version": 3
   },
   "file_extension": ".py",
   "mimetype": "text/x-python",
   "name": "python",
   "nbconvert_exporter": "python",
   "pygments_lexer": "ipython3",
   "version": "3.8.8"
  }
 },
 "nbformat": 4,
 "nbformat_minor": 5
}
