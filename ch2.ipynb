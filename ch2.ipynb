{
 "cells": [
  {
   "cell_type": "code",
   "execution_count": 2,
   "id": "6c9131de",
   "metadata": {},
   "outputs": [
    {
     "name": "stdout",
     "output_type": "stream",
     "text": [
      "True <class 'bool'>\n",
      "20 <class 'int'>\n",
      "3.14 <class 'float'>\n",
      "hello <class 'str'>\n"
     ]
    }
   ],
   "source": [
    "#2-1\n",
    "b = True\n",
    "print(b,type(b))\n",
    "num = 20\n",
    "print(num,type(num))\n",
    "pi = 3.14\n",
    "print(pi,type(pi))\n",
    "s = \"hello\"\n",
    "print(s,type(s))"
   ]
  },
  {
   "cell_type": "code",
   "execution_count": 3,
   "id": "f4ea1294",
   "metadata": {},
   "outputs": [
    {
     "name": "stdout",
     "output_type": "stream",
     "text": [
      "1 4374698336\n",
      "python 140718833588784\n"
     ]
    }
   ],
   "source": [
    "#2-2-1\n",
    "a=1\n",
    "print(a,id(a))\n",
    "a=\"python\"\n",
    "print(a,id(a))"
   ]
  },
  {
   "cell_type": "code",
   "execution_count": 9,
   "id": "c5d35c12",
   "metadata": {},
   "outputs": [
    {
     "name": "stdout",
     "output_type": "stream",
     "text": [
      "12345\n",
      "678910\n",
      "12345678910\n",
      "1234512345\n",
      "1\n",
      "2\n",
      "5\n",
      "4\n"
     ]
    }
   ],
   "source": [
    "#2-4-1\n",
    "\n",
    "a = '12345'\n",
    "b = '678910'\n",
    "c = a + b\n",
    "d = a * 2\n",
    "\n",
    "print(a)\n",
    "print(b)\n",
    "print(c)\n",
    "print(d)\n",
    "print(a[0])\n",
    "print(a[1])\n",
    "print(a[-1])\n",
    "print(a[-2])"
   ]
  },
  {
   "cell_type": "code",
   "execution_count": 11,
   "id": "35d0873d",
   "metadata": {},
   "outputs": [
    {
     "name": "stdout",
     "output_type": "stream",
     "text": [
      "請輸入半徑？10\n",
      "半徑： 10 面積： 314.159\n"
     ]
    }
   ],
   "source": [
    "#2-5-2\n",
    "radius = int(input(\"請輸入半徑？\"))\n",
    "pi = 3.14159\n",
    "area = radius * radius * pi\n",
    "print(\"半徑：\",radius,\"面積：\",area)"
   ]
  },
  {
   "cell_type": "code",
   "execution_count": 13,
   "id": "eefa7ee0",
   "metadata": {},
   "outputs": [
    {
     "name": "stdout",
     "output_type": "stream",
     "text": [
      "請輸入第一次期中考成績？75\n",
      "請輸入第二次期中考成績？80\n",
      "請輸入期末考成績？65\n",
      "總分為 220 平均為 73.33333333333333\n"
     ]
    }
   ],
   "source": [
    "mid = int(input(\"請輸入第一次期中考成績？\"))\n",
    "mid2 = int(input(\"請輸入第二次期中考成績？\"))\n",
    "final = int(input(\"請輸入期末考成績？\"))\n",
    "total= mid + mid2 + final\n",
    "average= total / 3\n",
    "print(\"總分為\",total,\"平均為\",average)"
   ]
  },
  {
   "cell_type": "code",
   "execution_count": 15,
   "id": "9ec68aaa",
   "metadata": {},
   "outputs": [
    {
     "name": "stdout",
     "output_type": "stream",
     "text": [
      "請輸入幾尺?5\n",
      "請輸入幾吋?8\n",
      "轉換成 172.72 公分\n"
     ]
    }
   ],
   "source": [
    "feet = int(input(\"請輸入幾尺?\"))\n",
    "inch = int(input(\"請輸入幾吋?\"))\n",
    "total=(feet*12+inch)*2.54\n",
    "print(\"轉換成\",total,\"公分\")"
   ]
  },
  {
   "cell_type": "code",
   "execution_count": null,
   "id": "3b875648",
   "metadata": {},
   "outputs": [],
   "source": []
  }
 ],
 "metadata": {
  "kernelspec": {
   "display_name": "Python 3",
   "language": "python",
   "name": "python3"
  },
  "language_info": {
   "codemirror_mode": {
    "name": "ipython",
    "version": 3
   },
   "file_extension": ".py",
   "mimetype": "text/x-python",
   "name": "python",
   "nbconvert_exporter": "python",
   "pygments_lexer": "ipython3",
   "version": "3.8.8"
  }
 },
 "nbformat": 4,
 "nbformat_minor": 5
}
