{
 "cells": [
  {
   "cell_type": "code",
   "execution_count": 2,
   "id": "d9f53b53",
   "metadata": {},
   "outputs": [
    {
     "name": "stdout",
     "output_type": "stream",
     "text": [
      "()\n",
      "(1, 2, 3)\n"
     ]
    }
   ],
   "source": [
    "#3-1 tuple list dict set\n",
    "#use () to create tuple\n",
    "\n",
    "t1=()\n",
    "print(t1)\n",
    "\n",
    "t2=(1,2,3)\n",
    "print(t2)"
   ]
  },
  {
   "cell_type": "code",
   "execution_count": 3,
   "id": "47de21bb",
   "metadata": {},
   "outputs": [
    {
     "name": "stdout",
     "output_type": "stream",
     "text": [
      "交換前 10 20\n",
      "交換後 20 10\n"
     ]
    }
   ],
   "source": [
    "a=10\n",
    "b=20\n",
    "print(\"交換前\",a,b)\n",
    "a,b = b,a\n",
    "print(\"交換後\",a,b)"
   ]
  },
  {
   "cell_type": "code",
   "execution_count": 9,
   "id": "359a4eeb",
   "metadata": {},
   "outputs": [
    {
     "name": "stdout",
     "output_type": "stream",
     "text": [
      "['milk', 'egg', 'coffee', 'watermelon', 'pineapple']\n",
      "milk\n",
      "5\n",
      "['milk', 'eggs', 'coffee', 'watermelon', 'pineapple']\n",
      "['milk', 'eggs', 'coffee', 'watermelon', 'pineapple', 'bread']\n",
      "['milk', 'eggs', 'coffee', 'watermelon', 'apple', 'pineapple', 'bread']\n"
     ]
    }
   ],
   "source": [
    "shoplist = ['milk','egg','coffee','watermelon','pineapple']\n",
    "print(shoplist)\n",
    "print(shoplist[0])\n",
    "print(len(shoplist))\n",
    "shoplist[1]='eggs'\n",
    "print(shoplist)\n",
    "shoplist.append('bread')\n",
    "print(shoplist)\n",
    "shoplist.insert(4,'apple')\n",
    "print(shoplist)"
   ]
  },
  {
   "cell_type": "code",
   "execution_count": null,
   "id": "3ca9d2e7",
   "metadata": {},
   "outputs": [],
   "source": []
  }
 ],
 "metadata": {
  "kernelspec": {
   "display_name": "Python 3",
   "language": "python",
   "name": "python3"
  },
  "language_info": {
   "codemirror_mode": {
    "name": "ipython",
    "version": 3
   },
   "file_extension": ".py",
   "mimetype": "text/x-python",
   "name": "python",
   "nbconvert_exporter": "python",
   "pygments_lexer": "ipython3",
   "version": "3.8.8"
  }
 },
 "nbformat": 4,
 "nbformat_minor": 5
}
